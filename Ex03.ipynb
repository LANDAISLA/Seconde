{
 "cells": [
  {
   "cell_type": "markdown",
   "metadata": {},
   "source": [
    "# loi binomiale"
   ]
  },
  {
   "cell_type": "markdown",
   "metadata": {},
   "source": [
    "**schéma de Bernoulli**"
   ]
  },
  {
   "cell_type": "markdown",
   "metadata": {},
   "source": [
    ">test"
   ]
  },
  {
   "cell_type": "markdown",
   "metadata": {},
   "source": [
    "cours loi binomiale [math et tiques](https://www.maths-et-tiques.fr/index.php/cours-maths/niveau-terminale#14)"
   ]
  },
  {
   "cell_type": "markdown",
   "metadata": {},
   "source": [
    "la loi binomile a deux paramètres:\n",
    "- la probabilité du succès\n",
    "- le nombre de répététition"
   ]
  },
  {
   "cell_type": "markdown",
   "metadata": {},
   "source": [
    ":EMOJICODE:"
   ]
  },
  {
   "cell_type": "code",
   "execution_count": 4,
   "metadata": {},
   "outputs": [],
   "source": [
    "ma_variable=3"
   ]
  },
  {
   "cell_type": "code",
   "execution_count": 5,
   "metadata": {},
   "outputs": [
    {
     "data": {
      "text/plain": [
       "5"
      ]
     },
     "execution_count": 5,
     "metadata": {},
     "output_type": "execute_result"
    }
   ],
   "source": [
    "ma_variable+2"
   ]
  },
  {
   "cell_type": "code",
   "execution_count": 6,
   "metadata": {},
   "outputs": [
    {
     "data": {
      "text/plain": [
       "3"
      ]
     },
     "execution_count": 6,
     "metadata": {},
     "output_type": "execute_result"
    }
   ],
   "source": [
    "ma_variable"
   ]
  },
  {
   "cell_type": "code",
   "execution_count": 7,
   "metadata": {},
   "outputs": [],
   "source": [
    "%matplotlib inline\n",
    "import numpy as np\n",
    "\n",
    "from matplotlib.pyplot import*\n",
    "\n",
    "def liste_carres(n):\n",
    "    return [k**2 for k in range(1,n+1)]\n",
    "\n",
    "def u(n):\n",
    "    s=0\n",
    "    for k in range (0,n):\n",
    "        s=s+liste_carres(n)[k]\n",
    "    return s*6/n\n",
    "\n",
    "def L(n):\n",
    "    return [u(k) for k in range (1,n+1)]\n",
    "\n",
    "def f(n):\n",
    "    return (n+1)*(2*n+2)\n",
    "\n",
    "def trace(nbre_pt):\n",
    "    for i in range (1,nbre_pt+1):\n",
    "        plot (i,u(i),'r.')\n",
    "        plot (i,f(i),'g.')\n",
    "    show()"
   ]
  },
  {
   "cell_type": "code",
   "execution_count": 8,
   "metadata": {},
   "outputs": [
    {
     "data": {
      "image/png": "[encoded data removed]",
      "text/plain": [
       "<Figure size 432x288 with 1 Axes>"
      ]
     },
     "metadata": {
      "needs_background": "light"
     },
     "output_type": "display_data"
    }
   ],
   "source": [
    "trace(20)"
   ]
  },
  {
   "cell_type": "markdown",
   "metadata": {},
   "source": [
    "Visualiser une loi binomiale (https://www.geogebra.org/m/njkhmfdw)"
   ]
  },
  {
   "cell_type": "code",
   "execution_count": 9,
   "metadata": {},
   "outputs": [
    {
     "data": {
      "text/html": [
       "\n",
       "<iframe width=\"800\" height=\"600\" src=\"https://www.geogebra.org/m/jEjZKn68#material/r45Aj3KY\" style=\"border: 1px solid black\"></iframe>\n"
      ],
      "text/plain": [
       "<IPython.core.display.HTML object>"
      ]
     },
     "execution_count": 9,
     "metadata": {},
     "output_type": "execute_result"
    }
   ],
   "source": [
    "import IPython.display as display\n",
    "fig01 = \"\"\"\n",
    "<iframe width=\"800\" height=\"600\" src=\"https://www.geogebra.org/m/jEjZKn68#material/r45Aj3KY\" style=\"border: 1px solid black\"></iframe>\n",
    "\"\"\"\n",
    "display.HTML(fig01)"
   ]
  },
  {
   "cell_type": "code",
   "execution_count": 25,
   "metadata": {
    "scrolled": true
   },
   "outputs": [
    {
     "data": {
      "text/html": [
       "<img src=\"https://encrypted-tbn0.gstatic.com/images?q=tbn:ANd9GcR9Zr8Ak5zVLZM8_c-HvmL9mHiZCF-8TyyX1w&usqp=CAU\" width=\"300\" height=\"300\"/>"
      ],
      "text/plain": [
       "<IPython.core.display.Image object>"
      ]
     },
     "execution_count": 25,
     "metadata": {},
     "output_type": "execute_result"
    }
   ],
   "source": [
    "from IPython.display import Image\n",
    "from IPython.core.display import HTML \n",
    "Image(url= \"https://encrypted-tbn0.gstatic.com/images?q=tbn:ANd9GcR9Zr8Ak5zVLZM8_c-HvmL9mHiZCF-8TyyX1w&usqp=CAU\",width=300,height=300)\n"
   ]
  }
 ],
 "metadata": {
  "kernelspec": {
   "display_name": "Python 3",
   "language": "python",
   "name": "python3"
  },
  "language_info": {
   "codemirror_mode": {
    "name": "ipython",
    "version": 3
   },
   "file_extension": ".py",
   "mimetype": "text/x-python",
   "name": "python",
   "nbconvert_exporter": "python",
   "pygments_lexer": "ipython3",
   "version": "3.8.5"
  }
 },
 "nbformat": 4,
 "nbformat_minor": 4
}
