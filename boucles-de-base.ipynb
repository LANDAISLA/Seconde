{
 "cells": [
  {
   "cell_type": "markdown",
   "metadata": {},
   "source": [
    "# Les variables d'accumulations\n",
    "\n",
    "##  Somme, produit\n",
    "\n",
    "\n",
    "Pour calculer ce genre de quantité, on traduit directement la formule mathématique en une boucle for qui va modifier à chaque itération une **même** variable.\n",
    "\n",
    "Par exemple, on va calculer en python $\\sum\\limits_{k = 1}^n{k^3}$ pour différentes valeurs de n."
   ]
  },
  {
   "cell_type": "code",
   "execution_count": 1,
   "metadata": {},
   "outputs": [
    {
     "data": {
      "text/plain": [
       "14400"
      ]
     },
     "execution_count": 1,
     "metadata": {},
     "output_type": "execute_result"
    }
   ],
   "source": [
    "n = 15\n",
    "somme = 0\n",
    "for k in range(1, n + 1):\n",
    "    somme = somme + k**3\n",
    "somme"
   ]
  },
  {
   "cell_type": "markdown",
   "metadata": {},
   "source": [
    "De la même manière, on peut créer une fonction factorielle"
   ]
  },
  {
   "cell_type": "code",
   "execution_count": 4,
   "metadata": {
    "collapsed": true
   },
   "outputs": [],
   "source": [
    "def facto(n):\n",
    "    prod = 1\n",
    "    for i in range(1, n + 1):\n",
    "        prod = prod * i\n",
    "    return prod"
   ]
  },
  {
   "cell_type": "code",
   "execution_count": 6,
   "metadata": {},
   "outputs": [
    {
     "name": "stdout",
     "output_type": "stream",
     "text": [
      "1\n",
      "1\n",
      "2\n",
      "6\n",
      "24\n",
      "120\n",
      "720\n",
      "5040\n",
      "40320\n",
      "362880\n",
      "3628800\n"
     ]
    }
   ],
   "source": [
    "for i in range(11):\n",
    "    print(facto(i))"
   ]
  },
  {
   "cell_type": "code",
   "execution_count": 7,
   "metadata": {
    "collapsed": true
   },
   "outputs": [],
   "source": [
    "def binom(k, n):\n",
    "    \"\"\"\n",
    "    Calcule et retourne k parmi n\n",
    "    \"\"\"\n",
    "    if k > n:\n",
    "        return 0\n",
    "    return facto(n) // (facto(k) * facto(n - k))"
   ]
  },
  {
   "cell_type": "markdown",
   "metadata": {},
   "source": [
    "## Les compteurs\n",
    "\n",
    "Le principe est globalement le même, sauf que cette fois l'opération sur notre variable sera juste d'ajouter 1 à chaque fois qu'on a trouvé un nouvel objet cherché.\n",
    "\n",
    "Par exemple, étant donné une liste de nombre L, on cherche combien il y a de nombres pairs contenus dans L"
   ]
  },
  {
   "cell_type": "code",
   "execution_count": 8,
   "metadata": {
    "collapsed": true
   },
   "outputs": [],
   "source": [
    "def nb_pairs(L):\n",
    "    c = 0\n",
    "    for el in L:\n",
    "        if el % 2 == 0:\n",
    "            c = c + 1\n",
    "    return c"
   ]
  },
  {
   "cell_type": "code",
   "execution_count": 11,
   "metadata": {},
   "outputs": [],
   "source": [
    "import numpy.random as rd"
   ]
  },
  {
   "cell_type": "code",
   "execution_count": 15,
   "metadata": {},
   "outputs": [
    {
     "data": {
      "text/plain": [
       "(array([397, 116, 618, 123, 106, 765, 538, 704, 672, 729, 359, 157, 174,\n",
       "        422, 471, 543, 731, 137, 972, 193, 934, 781, 213, 421, 412, 691,\n",
       "        652, 233, 370, 741]), 13)"
      ]
     },
     "execution_count": 15,
     "metadata": {},
     "output_type": "execute_result"
    }
   ],
   "source": [
    "N = 30\n",
    "L = rd.randint(0, 1000, N)\n",
    "L, nb_pairs(L)"
   ]
  },
  {
   "cell_type": "markdown",
   "metadata": {},
   "source": [
    "Voici un autre exemple qui compte le nombre d'espaces dans un texte :"
   ]
  },
  {
   "cell_type": "code",
   "execution_count": 16,
   "metadata": {
    "collapsed": true
   },
   "outputs": [],
   "source": [
    "def nb_espaces(txt):\n",
    "    c = 0\n",
    "    for car in txt:\n",
    "        if car == \" \":\n",
    "            c = c + 1\n",
    "    return c"
   ]
  },
  {
   "cell_type": "markdown",
   "metadata": {},
   "source": [
    "Un dernier exemple : L est une liste de longueur n contenant tous les entiers de 0 à n - 1 dans le désordre.\n",
    "On veut compter combien d'entiers sont égaux à leurs indices dans L"
   ]
  },
  {
   "cell_type": "code",
   "execution_count": 17,
   "metadata": {
    "collapsed": true
   },
   "outputs": [],
   "source": [
    "def points_fixes(L):\n",
    "    c = 0\n",
    "    for i in range(len(L)):\n",
    "        if L[i] == i:\n",
    "            c = c + 1\n",
    "    return c"
   ]
  },
  {
   "cell_type": "code",
   "execution_count": 18,
   "metadata": {
    "collapsed": true
   },
   "outputs": [],
   "source": [
    "import random"
   ]
  },
  {
   "cell_type": "code",
   "execution_count": 19,
   "metadata": {},
   "outputs": [
    {
     "data": {
      "text/plain": [
       "[19, 14, 5, 16, 2, 15, 4, 11, 6, 13, 10, 0, 9, 7, 18, 3, 17, 8, 1, 12]"
      ]
     },
     "execution_count": 19,
     "metadata": {},
     "output_type": "execute_result"
    }
   ],
   "source": [
    "L = list(range(20))\n",
    "random.shuffle(L)\n",
    "L"
   ]
  },
  {
   "cell_type": "code",
   "execution_count": 20,
   "metadata": {},
   "outputs": [
    {
     "data": {
      "text/plain": [
       "1"
      ]
     },
     "execution_count": 20,
     "metadata": {},
     "output_type": "execute_result"
    }
   ],
   "source": [
    "points_fixes(L)"
   ]
  },
  {
   "cell_type": "code",
   "execution_count": 28,
   "metadata": {},
   "outputs": [
    {
     "data": {
      "text/plain": [
       "([4, 13, 9, 15, 2, 16, 3, 18, 10, 1, 17, 0, 7, 5, 19, 12, 6, 14, 8, 11], 0)"
      ]
     },
     "execution_count": 28,
     "metadata": {},
     "output_type": "execute_result"
    }
   ],
   "source": [
    "random.shuffle(L)\n",
    "L, points_fixes(L)"
   ]
  },
  {
   "cell_type": "code",
   "execution_count": null,
   "metadata": {
    "collapsed": true
   },
   "outputs": [],
   "source": []
  }
 ],
 "metadata": {
  "kernelspec": {
   "display_name": "Python 3",
   "language": "python",
   "name": "python3"
  },
  "language_info": {
   "codemirror_mode": {
    "name": "ipython",
    "version": 3
   },
   "file_extension": ".py",
   "mimetype": "text/x-python",
   "name": "python",
   "nbconvert_exporter": "python",
   "pygments_lexer": "ipython3",
   "version": "3.8.5"
  }
 },
 "nbformat": 4,
 "nbformat_minor": 2
}
