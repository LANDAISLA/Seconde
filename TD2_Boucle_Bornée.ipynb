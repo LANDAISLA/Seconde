{
 "cells": [
  {
   "cell_type": "markdown",
   "metadata": {},
   "source": [
    "*Lycée Saint-Adjutor - Auteur LANDAIS Avril 2021* ![Jupyter logo](https://upload.wikimedia.org/wikipedia/commons/3/38/Jupyter_logo.svg)"
   ]
  },
  {
   "cell_type": "markdown",
   "metadata": {},
   "source": [
    "# TD N°2 - BOUCLE BORNEE EN LANGAGE PYTHON"
   ]
  },
  {
   "cell_type": "markdown",
   "metadata": {},
   "source": [
    "Voici le programme de la fonction Somme(n) qui permet de calculer la somme **0+1+2+3+....+n**\n",
    "n est un argument de la fonction"
   ]
  },
  {
   "cell_type": "code",
   "execution_count": null,
   "metadata": {},
   "outputs": [],
   "source": [
    "def Somme(n):\n",
    "    s=0\n",
    "    for k in range(n+1):\n",
    "        s=s+k\n",
    "    return s"
   ]
  },
  {
   "cell_type": "code",
   "execution_count": null,
   "metadata": {},
   "outputs": [],
   "source": [
    "# A TOI DE REGARDER LES VALEUR PRISES PAR Somme(n) fais des tests\n",
    "Somme(2)"
   ]
  },
  {
   "cell_type": "markdown",
   "metadata": {},
   "source": [
    "Programme une fonction Somme_carre(n) qui va calculer la somme $1^2 + 2^2 + 3^2 +... + n^2 $"
   ]
  },
  {
   "cell_type": "code",
   "execution_count": 14,
   "metadata": {},
   "outputs": [],
   "source": [
    "# A toi !"
   ]
  },
  {
   "cell_type": "markdown",
   "metadata": {},
   "source": [
    "La boucle bornée **for** permet aussi de créer des courbes\n",
    "Pour cela, il faut importer la bibliothèque **matplotlib.pyplot** avec l'alias **plt**\n",
    "\n",
    "**commandes utiles**\n",
    "\n",
    "| plt.plot(x,y,'r*')             | Place le point de coordonnées (x;y) en rouge ('r')  avec pour marque une * |\n",
    "|--------------------------------|:--------------------------------------------------------------------------:|\n",
    "| plt.plot([xA,xB],[yA,yB],'b-') |                     Trace le segment [AB] en bleu ('b')                    |\n",
    "| plt.grid()                     |                           Affiche un quadrillage                           |\n",
    "| plt.axis([a,b,c,d])            |         définit les dimensions des axes:  a < x < b   et c < y < d         |\n",
    "| plt.axis('equal')              | Définit un repère orthonormé                                               |\n",
    "\n",
    "\n",
    "\n"
   ]
  },
  {
   "cell_type": "code",
   "execution_count": null,
   "metadata": {},
   "outputs": [],
   "source": [
    "import matplotlib.pyplot as plt\n",
    "\n",
    "def f(x):\n",
    "    return x**2-x+1     # On a définit la fonction f(x)=x2-x+1\n",
    "\n",
    "x=-2\n",
    "for k in range (51):           # on place 51 points \n",
    "    plt.plot(x,f(x),'r*')      # de coordonnées (x,f(x)) en partant de x=-2\n",
    "    x=x+0.1                    # avec u pas de 0.1            \n",
    "plt.grid()\n",
    "plt.show()\n"
   ]
  },
  {
   "cell_type": "markdown",
   "metadata": {},
   "source": [
    "Exécuter la cellule précédente"
   ]
  },
  {
   "cell_type": "markdown",
   "metadata": {},
   "source": [
    "### Consigne: En vous inspirant de l'exemple précédent\n",
    "#### Ecrire le programme qui permet de tracer 180 points de la fonction sinus(x) en commençant à 0 et par pas de 0.2\n",
    "\n",
    "**mais attention, il faudra importer la fonction sin avec la syntaxe suivante**\n",
    "\n",
    "**from math import sin**"
   ]
  },
  {
   "cell_type": "code",
   "execution_count": null,
   "metadata": {},
   "outputs": [],
   "source": [
    "# A VOUS , n'oubliez pas d'importer les bibliothèques\n"
   ]
  },
  {
   "cell_type": "markdown",
   "metadata": {},
   "source": [
    "### Situation:\n",
    "\n",
    "Un salarié est embauché dans une société avec un salaire de 2 000 €; on lui propose deux types d'augmentation:\n",
    "* une augmentation annuelle de 1,5%\n",
    "* une augmentation annuelle fixe de 32 € \n",
    "\n",
    "Le salarié souhaite comparer ces deux propositions après n années passées dans l'entreprise\n",
    "\n",
    "Calculer le salaire après 1 an, 2 ans avant de commencer à programmer. Qaund vous êtes prêts \n",
    "\n",
    "Complèter le programme ci après"
   ]
  },
  {
   "cell_type": "code",
   "execution_count": null,
   "metadata": {},
   "outputs": [],
   "source": [
    "def f1(n):\n",
    "    A= 2000\n",
    "    for k                               # ligne à complèter\n",
    "        A=2000*                         # ligne à complèter \n",
    "                                        # ligne à complèter\n",
    "    return A\n",
    "\n",
    "def f2(n):\n",
    "    A=2000\n",
    "    for k in range (1,n+1):\n",
    "        A=A+                             # ligne à complèter\n",
    "    return A\n",
    "\n",
    "n=int(input(\"combien d'années allez-vous rester dans la société\"))\n",
    "print(\"la solution 1 \",f1(n),\" la solution 2 \",f2(n))\n",
    "    "
   ]
  },
  {
   "cell_type": "markdown",
   "metadata": {},
   "source": [
    "Si vous avez du temps, à vous d'améliorer le programme. !"
   ]
  },
  {
   "cell_type": "code",
   "execution_count": null,
   "metadata": {},
   "outputs": [],
   "source": []
  }
 ],
 "metadata": {
  "kernelspec": {
   "display_name": "Python 3",
   "language": "python",
   "name": "python3"
  },
  "language_info": {
   "codemirror_mode": {
    "name": "ipython",
    "version": 3
   },
   "file_extension": ".py",
   "mimetype": "text/x-python",
   "name": "python",
   "nbconvert_exporter": "python",
   "pygments_lexer": "ipython3",
   "version": "3.8.5"
  }
 },
 "nbformat": 4,
 "nbformat_minor": 4
}
