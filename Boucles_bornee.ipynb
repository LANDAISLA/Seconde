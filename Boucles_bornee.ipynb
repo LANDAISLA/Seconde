{
 "cells": [
  {
   "cell_type": "markdown",
   "metadata": {},
   "source": [
    "*Lycée Saint-Adjutor - Auteur LANDAIS Avril 2021* ![Jupyter logo](https://upload.wikimedia.org/wikipedia/commons/3/38/Jupyter_logo.svg)"
   ]
  },
  {
   "cell_type": "markdown",
   "metadata": {},
   "source": [
    "# BOUCLE BORNEE EN LANGAGE PYTHON"
   ]
  },
  {
   "cell_type": "markdown",
   "metadata": {},
   "source": [
    "\n",
    "\n",
    "## Utilisation du notebook\n",
    "\n",
    "Pour cette séance, nous allons utiliser Python en mode \"notebook\". Le fichier que vous venez d'ouvrir, \"introduction à Pyhton.ipynb\", et qui est affiché ici-même, est un notebook. Faites-en une copie avec la commande ci dessus \"File>Make a Copy...\", et renommez-le en cliquant sur le titre (à côté de jupyter  TD1...), par exemple en rajoutant votre nom.\n",
    "\n",
    "On peut entrer des expressions (opérations, calculs) ou des instructions (des commandes) dans tous les champs ci-dessous qui commencent par `In[..]`. Pour entrer plusieurs lignes à la suite, on appuie sur la touche entrée.\n",
    "\n",
    "Le résultat s'obtient avec :  \n",
    "* ctrl + entrée, dans ce cas on reste dans la cellule courante;\n",
    "* majusucule + entrée, dans ce cas on passe à la cellule suivante.\n",
    "* Après exécution, le résultat d'un programme est souvent précédé de Out[ ].\n",
    "\n",
    "Il est possible qu'un notebook ne réponde plus lors de la tentative d'éxécution d'un commande ou d'un programme. C'est notamment le cas lorsqu'un programme précédent à planté. Commencez par sauver votre travail. Puis allez dans l'onglet \"Home\", et fermez le TD : cocher la case correspondante, \"shutdown\" en haut de la page. Fermez ensuite l'onglet du TD, et relancez-le à partir de \"Home\".\n",
    "\n",
    "\n",
    "## Expressions et opérations de base\n",
    "\n",
    "Testez les opérations usuelles (`+ -  *  /`) dans le champ ci-dessous. On peut ré-écrire sur ce qui est déjà présent.\n",
    " \n"
   ]
  },
  {
   "cell_type": "markdown",
   "metadata": {},
   "source": [
    "## Boucle bornée For\n",
    "**Le principe de la boucle For, c’est d’exécuter un bloc d’instructions un nombre de fois connu**.\n",
    "\n",
    "**Exemple : On veut avoir les carrés des 10 premiers entiers naturel**\n",
    "\n",
    "On sait que l'on commence à $0^2$ et que l'on termine à $9^2$"
   ]
  },
  {
   "cell_type": "code",
   "execution_count": 12,
   "metadata": {},
   "outputs": [
    {
     "name": "stdout",
     "output_type": "stream",
     "text": [
      "0\n",
      "1\n",
      "4\n",
      "9\n",
      "16\n",
      "25\n",
      "36\n",
      "49\n",
      "64\n",
      "81\n"
     ]
    }
   ],
   "source": [
    "for k in range(10):\n",
    "    print(k**2)"
   ]
  },
  {
   "cell_type": "code",
   "execution_count": 14,
   "metadata": {},
   "outputs": [
    {
     "name": "stdout",
     "output_type": "stream",
     "text": [
      "4\n",
      "9\n",
      "16\n",
      "25\n",
      "36\n",
      "49\n",
      "64\n",
      "81\n"
     ]
    }
   ],
   "source": [
    "for k in range(2,10):\n",
    "    print(k**2)"
   ]
  },
  {
   "cell_type": "code",
   "execution_count": 18,
   "metadata": {},
   "outputs": [
    {
     "name": "stdout",
     "output_type": "stream",
     "text": [
      "1\n",
      "9\n",
      "25\n",
      "49\n",
      "81\n",
      "121\n"
     ]
    }
   ],
   "source": [
    "for k in range(1,13,2):\n",
    "    print(k**2)"
   ]
  },
  {
   "cell_type": "markdown",
   "metadata": {},
   "source": [
    "## on doit écrire:\n",
    "**For k in range(debut,fin+1,pas)**:\n",
    "\n",
    "      instructions"
   ]
  },
  {
   "cell_type": "markdown",
   "metadata": {},
   "source": [
    "A vous de programmer :\n",
    " \n",
    "* les 50 premiers entiers élevés au cube;\n",
    "* les 10 premiers entiers pairs.\n",
    "* la somme des 20 premiers entiers naturels."
   ]
  },
  {
   "cell_type": "code",
   "execution_count": 19,
   "metadata": {},
   "outputs": [],
   "source": [
    "#  les 50 premiers entiers élevés au cube"
   ]
  },
  {
   "cell_type": "code",
   "execution_count": 20,
   "metadata": {},
   "outputs": [],
   "source": [
    "# les 10 premiers entiers pairs"
   ]
  },
  {
   "cell_type": "code",
   "execution_count": 21,
   "metadata": {},
   "outputs": [],
   "source": [
    "# la somme des 20 premiers entiers naturels"
   ]
  }
 ],
 "metadata": {
  "kernelspec": {
   "display_name": "Python 3",
   "language": "python",
   "name": "python3"
  },
  "language_info": {
   "codemirror_mode": {
    "name": "ipython",
    "version": 3
   },
   "file_extension": ".py",
   "mimetype": "text/x-python",
   "name": "python",
   "nbconvert_exporter": "python",
   "pygments_lexer": "ipython3",
   "version": "3.8.5"
  }
 },
 "nbformat": 4,
 "nbformat_minor": 4
}
