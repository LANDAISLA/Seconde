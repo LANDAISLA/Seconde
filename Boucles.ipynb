{
 "cells": [
  {
   "cell_type": "markdown",
   "metadata": {},
   "source": [
    "*Lycée Saint-Adjutor - Auteur LANDAIS Avril 2021* ![Jupyter logo](https://upload.wikimedia.org/wikipedia/commons/3/38/Jupyter_logo.svg)"
   ]
  },
  {
   "cell_type": "markdown",
   "metadata": {},
   "source": [
    "# BOUCLE \"POUR\" EN LANGAGE PYTHON ET LISTES#"
   ]
  },
  {
   "cell_type": "markdown",
   "metadata": {},
   "source": [
    "## Tant que"
   ]
  },
  {
   "cell_type": "markdown",
   "metadata": {},
   "source": [
    "Le principe de la boucle while, c’est d’exécuter un bloc d’instructions tant que (while in english) une condition donnée est vraie.\n",
    "Encore une fois commençons par un exemple :"
   ]
  },
  {
   "cell_type": "code",
   "execution_count": 10,
   "metadata": {},
   "outputs": [
    {
     "name": "stdout",
     "output_type": "stream",
     "text": [
      "15\n",
      "14\n",
      "13\n",
      "12\n",
      "11\n",
      "10\n",
      "9\n",
      "8\n",
      "7\n",
      "6\n",
      "5\n",
      "4\n"
     ]
    }
   ],
   "source": [
    "k=15\n",
    "while k>3:\n",
    "    print(k)\n",
    "    k=k-1"
   ]
  },
  {
   "cell_type": "markdown",
   "metadata": {},
   "source": [
    "Change la valeur de k , relance le programme et observe ls différences.\n",
    "\n",
    "**Que se passe t-il si k<=3 ?**"
   ]
  },
  {
   "cell_type": "markdown",
   "metadata": {},
   "source": [
    "Un nouvel exemple de boucle 'tant que' avec le module randint(a,b) qui permet de générer un entier aléatoire entre a et b"
   ]
  },
  {
   "cell_type": "code",
   "execution_count": 15,
   "metadata": {},
   "outputs": [
    {
     "name": "stdout",
     "output_type": "stream",
     "text": [
      "13\n",
      "4\n",
      "11\n",
      "6\n",
      "1\n",
      "11\n",
      "11\n",
      "12\n",
      "8\n",
      "9\n",
      "8\n",
      "9\n",
      "3\n",
      "13\n",
      "6\n",
      "3\n",
      "8\n",
      "13\n",
      "2\n"
     ]
    }
   ],
   "source": [
    "from random import randint\n",
    "k=13\n",
    "while k!=2:\n",
    "    print(k)\n",
    "    k=randint(0,13)\n",
    "print(k) # cette dernière ligne permet de faire afficher la dernière valur de k qui est égal à 2#"
   ]
  },
  {
   "cell_type": "markdown",
   "metadata": {},
   "source": [
    "Que permet de faire ce code ?"
   ]
  },
  {
   "cell_type": "markdown",
   "metadata": {},
   "source": [
    "**A vous  de créer un code dans la cellule ci-dessous avec pour consigne:**  \n",
    "k est un entier aléatoire entre 0 et 25 et on veut afficher k tant que k est supérieur ou égal à 10 "
   ]
  },
  {
   "cell_type": "code",
   "execution_count": null,
   "metadata": {},
   "outputs": [],
   "source": []
  }
 ],
 "metadata": {
  "kernelspec": {
   "display_name": "Python 3",
   "language": "python",
   "name": "python3"
  },
  "language_info": {
   "codemirror_mode": {
    "name": "ipython",
    "version": 3
   },
   "file_extension": ".py",
   "mimetype": "text/x-python",
   "name": "python",
   "nbconvert_exporter": "python",
   "pygments_lexer": "ipython3",
   "version": "3.8.5"
  }
 },
 "nbformat": 4,
 "nbformat_minor": 4
}
